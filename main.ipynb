{
 "cells": [
  {
   "cell_type": "code",
   "execution_count": 33,
   "metadata": {},
   "outputs": [
    {
     "name": "stderr",
     "output_type": "stream",
     "text": [
      "d:\\python archive\\pyCOVID\\venv\\lib\\site-packages\\Bio\\pairwise2.py:278: BiopythonDeprecationWarning: Bio.pairwise2 has been deprecated, and we intend to remove it in a future release of Biopython. As an alternative, please consider using Bio.Align.PairwiseAligner as a replacement, and contact the Biopython developers if you still need the Bio.pairwise2 module.\n",
      "  warnings.warn(\n"
     ]
    }
   ],
   "source": [
    "from Bio import Entrez, SeqIO, pairwise2\n",
    "from Bio.Seq import Seq\n",
    "from Bio.pairwise2 import format_alignment\n",
    "\n",
    "def get_surface_glycoprotein_translation(ncbi_id):\n",
    "    # NCBI에 접속하기 위한 이메일 주소 설정\n",
    "    Entrez.email = \"your.email@example.com\"\n",
    "\n",
    "    # NCBI의 GenBank 데이터베이스에서 NCBI ID에 해당하는 바이러스 정보 가져오기\n",
    "    handle = Entrez.efetch(db=\"nucleotide\", id=ncbi_id, rettype=\"gb\", retmode=\"text\")\n",
    "    record = SeqIO.read(handle, \"genbank\")\n",
    "\n",
    "    # surface glycoprotein feature 추출\n",
    "    surface_glycoprotein_feature = None\n",
    "    for feature in record.features:\n",
    "        if feature.type == \"CDS\" and \"gene\" in feature.qualifiers and \"S\" in feature.qualifiers[\"gene\"]:\n",
    "            surface_glycoprotein_feature = feature\n",
    "            break\n",
    "\n",
    "    # surface glycoprotein feature가 없으면 None 반환\n",
    "    if surface_glycoprotein_feature is None:\n",
    "        return None\n",
    "\n",
    "    # surface glycoprotein feature에서 translation 정보 추출하여 문자열로 반환\n",
    "    surface_glycoprotein_translation = surface_glycoprotein_feature.qualifiers[\"translation\"][0]\n",
    "    return surface_glycoprotein_translation\n",
    "\n",
    "def new_sars_cov_2_sequence(_id):\n",
    "    string = get_surface_glycoprotein_translation(_id)\n",
    "    f = open(str(_id)+\".txt\", \"w\")\n",
    "    f.write(string)\n",
    "    f.close()\n",
    "\n",
    "def calculate_similarity(seq1, seq2):\n",
    "    alignments = pairwise2.align.globalxx(seq1, seq2)\n",
    "    alignment = alignments[0]\n",
    "    aligned_seq1, aligned_seq2, score, begin, end = alignment\n",
    "    return score\n"
   ]
  },
  {
   "cell_type": "code",
   "execution_count": 28,
   "metadata": {},
   "outputs": [],
   "source": [
    "REF_COVID = new_sars_cov_2_sequence(\"NC_045512.2\")"
   ]
  },
  {
   "cell_type": "code",
   "execution_count": 29,
   "metadata": {},
   "outputs": [],
   "source": [
    "id = input(\"id를 입력하세요 : \")\n",
    "INPUT_COVID = new_sars_cov_2_sequence(id)"
   ]
  },
  {
   "cell_type": "code",
   "execution_count": 35,
   "metadata": {},
   "outputs": [
    {
     "name": "stdout",
     "output_type": "stream",
     "text": [
      "두 개체의 유전자 일치 점수 : 1241.0점\n"
     ]
    }
   ],
   "source": [
    "with open('NC_045512.2.txt', 'r') as f1, open(input(\"비교할 유전자의 id를 입력하세요\")+\".txt\", 'r') as f2:\n",
    "    seq1 = f1.readline().strip()\n",
    "    seq2 = f2.readline().strip()\n",
    "\n",
    "    min_seq = min(seq1, seq2)\n",
    "\n",
    "similarity = calculate_similarity(seq1, seq2)\n",
    "print(f\"두 개체의 유전자 일치 점수 : {similarity}/{len(min_seq)}점\")"
   ]
  }
 ],
 "metadata": {
  "kernelspec": {
   "display_name": "venv",
   "language": "python",
   "name": "python3"
  },
  "language_info": {
   "codemirror_mode": {
    "name": "ipython",
    "version": 3
   },
   "file_extension": ".py",
   "mimetype": "text/x-python",
   "name": "python",
   "nbconvert_exporter": "python",
   "pygments_lexer": "ipython3",
   "version": "3.10.7"
  },
  "orig_nbformat": 4
 },
 "nbformat": 4,
 "nbformat_minor": 2
}
