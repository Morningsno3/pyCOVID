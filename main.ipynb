{
 "cells": [
  {
   "cell_type": "code",
   "execution_count": 43,
   "metadata": {},
   "outputs": [],
   "source": [
    "from Bio import Entrez, SeqIO, pairwise2\n",
    "\n",
    "def get_surface_glycoprotein_translation(ncbi_id):\n",
    "    # NCBI에 접속하기 위한 이메일 주소 설정\n",
    "    Entrez.email = \"your.email@example.com\"\n",
    "\n",
    "    # NCBI의 GenBank 데이터베이스에서 NCBI ID에 해당하는 바이러스 정보 가져오기\n",
    "    handle = Entrez.efetch(db=\"nucleotide\", id=ncbi_id, rettype=\"gb\", retmode=\"text\")\n",
    "    record = SeqIO.read(handle, \"genbank\")\n",
    "\n",
    "    # surface glycoprotein feature 추출\n",
    "    for feature in record.features:\n",
    "        if feature.type == \"CDS\" and \"gene\" in feature.qualifiers and \"S\" in feature.qualifiers[\"gene\"]:\n",
    "            surface_glycoprotein_location = feature.location\n",
    "            surface_glycoprotein_seq = surface_glycoprotein_location.extract(record.seq)\n",
    "            return str(surface_glycoprotein_seq)\n",
    "            \n",
    "\n",
    "def new_sars_cov_2_sequence(_id):\n",
    "    string = get_surface_glycoprotein_translation(_id)\n",
    "    f = open(str(_id)+\".txt\", \"w\")\n",
    "    f.write(string)\n",
    "    f.close()\n",
    "\n",
    "def calculate_similarity(seq1, seq2):\n",
    "    alignments = pairwise2.align.globalxx(seq1, seq2)\n",
    "    alignment = alignments[0]\n",
    "    aligned_seq1, aligned_seq2, score, begin, end = alignment\n",
    "    return score\n"
   ]
  },
  {
   "cell_type": "code",
   "execution_count": 44,
   "metadata": {},
   "outputs": [],
   "source": [
    "REF_COVID = new_sars_cov_2_sequence(\"NC_045512.2\")"
   ]
  },
  {
   "cell_type": "code",
   "execution_count": 45,
   "metadata": {},
   "outputs": [],
   "source": [
    "id = input(\"id를 입력하세요 : \")\n",
    "INPUT_COVID = new_sars_cov_2_sequence(id)"
   ]
  },
  {
   "cell_type": "code",
   "execution_count": 46,
   "metadata": {},
   "outputs": [
    {
     "name": "stdout",
     "output_type": "stream",
     "text": [
      "두 개체의 유전자 일치 점수 : 3784/3822점\n"
     ]
    }
   ],
   "source": [
    "with open('NC_045512.2.txt', 'r') as f1, open(input(\"비교할 유전자의 id를 입력하세요\")+\".txt\", 'r') as f2:\n",
    "    seq1 = f1.readline().strip()\n",
    "    seq2 = f2.readline().strip()\n",
    "\n",
    "    min_seq = min(seq1, seq2)\n",
    "\n",
    "similarity = calculate_similarity(seq1, seq2)\n",
    "print(f\"두 개체의 유전자 일치 점수 : {int(similarity)}/{len(min_seq)}점\")"
   ]
  }
 ],
 "metadata": {
  "kernelspec": {
   "display_name": "venv",
   "language": "python",
   "name": "python3"
  },
  "language_info": {
   "codemirror_mode": {
    "name": "ipython",
    "version": 3
   },
   "file_extension": ".py",
   "mimetype": "text/x-python",
   "name": "python",
   "nbconvert_exporter": "python",
   "pygments_lexer": "ipython3",
   "version": "3.10.7"
  },
  "orig_nbformat": 4
 },
 "nbformat": 4,
 "nbformat_minor": 2
}
